{
 "cells": [
  {
   "cell_type": "code",
   "execution_count": 18,
   "metadata": {},
   "outputs": [],
   "source": [
    "import numpy as np\n",
    "import pandas as pd\n",
    "from sklearn.cross_validation import train_test_split\n",
    "from sklearn.metrics import accuracy_score\n",
    "from sklearn.tree import DecisionTreeClassifier\n",
    "\n",
    "from sklearn import tree\n",
    "from sklearn.ensemble import RandomForestClassifier"
   ]
  },
  {
   "cell_type": "code",
   "execution_count": 7,
   "metadata": {},
   "outputs": [
    {
     "name": "stdout",
     "output_type": "stream",
     "text": [
      "(2686, 193)\n",
      "(2686, 10)\n"
     ]
    }
   ],
   "source": [
    "features = np.load(\"features.txt\")\n",
    "labels = np.load(\"label.txt\")\n",
    "print(features.shape)\n",
    "print(labels.shape)"
   ]
  },
  {
   "cell_type": "code",
   "execution_count": 8,
   "metadata": {},
   "outputs": [
    {
     "name": "stdout",
     "output_type": "stream",
     "text": [
      "[8 0 4 ..., 4 3 8]\n",
      "(2686,)\n"
     ]
    }
   ],
   "source": [
    "labels_not_hot = []\n",
    "for element in labels:\n",
    "    for i in range(0, len(element)):\n",
    "        if element[i] == 1: \n",
    "            labels_not_hot.append(i)\n",
    "\n",
    "labels_array = np.array(labels_not_hot)\n",
    "print(labels_array)\n",
    "print(labels_array.shape)"
   ]
  },
  {
   "cell_type": "code",
   "execution_count": 17,
   "metadata": {
    "collapsed": true
   },
   "outputs": [],
   "source": [
    "X = features\n",
    "y = labels_array\n",
    "X_train, X_test, y_train, y_test = train_test_split( X, y, test_size = 0.3, random_state = 100)"
   ]
  },
  {
   "cell_type": "code",
   "execution_count": 16,
   "metadata": {},
   "outputs": [
    {
     "name": "stdout",
     "output_type": "stream",
     "text": [
      "Accuracy is  74.4416873449\n"
     ]
    }
   ],
   "source": [
    "\n",
    "\n",
    "#decision tree training\n",
    "clf_entropy = DecisionTreeClassifier(criterion = \"entropy\", random_state = 100, max_depth=15)\n",
    "clf_entropy.fit(X_train, y_train)\n",
    "\n",
    "\n",
    "#test\n",
    "y_pred_en = clf_entropy.predict(X_test)\n",
    "y_pred_en\n",
    "\n",
    "#accuracy\n",
    "print (\"Accuracy is \", accuracy_score(y_test,y_pred_en)*100)\n"
   ]
  },
  {
   "cell_type": "code",
   "execution_count": 25,
   "metadata": {},
   "outputs": [
    {
     "name": "stdout",
     "output_type": "stream",
     "text": [
      "Accuracy is  85.6079404467\n"
     ]
    }
   ],
   "source": [
    "\n",
    "ran_forest = RandomForestClassifier(n_estimators=10, criterion = \"gini\")\n",
    "\n",
    "ran_forest.fit(X_train, y_train)\n",
    "\n",
    "y_pred_ran = ran_forest.predict(X_test)\n",
    "\n",
    "print(\"Accuracy is \", accuracy_score(y_test, y_pred_ran)*100)"
   ]
  },
  {
   "cell_type": "code",
   "execution_count": null,
   "metadata": {
    "collapsed": true
   },
   "outputs": [],
   "source": []
  }
 ],
 "metadata": {
  "kernelspec": {
   "display_name": "Python [default]",
   "language": "python",
   "name": "python3"
  },
  "language_info": {
   "codemirror_mode": {
    "name": "ipython",
    "version": 3
   },
   "file_extension": ".py",
   "mimetype": "text/x-python",
   "name": "python",
   "nbconvert_exporter": "python",
   "pygments_lexer": "ipython3",
   "version": "3.5.4"
  }
 },
 "nbformat": 4,
 "nbformat_minor": 2
}
