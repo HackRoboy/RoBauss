{
 "cells": [
  {
   "cell_type": "code",
   "execution_count": 1,
   "metadata": {},
   "outputs": [
    {
     "name": "stderr",
     "output_type": "stream",
     "text": [
      "/Users/Kevin/anaconda/lib/python3.5/site-packages/sklearn/cross_validation.py:41: DeprecationWarning: This module was deprecated in version 0.18 in favor of the model_selection module into which all the refactored classes and functions are moved. Also note that the interface of the new CV iterators are different from that of this module. This module will be removed in 0.20.\n",
      "  \"This module will be removed in 0.20.\", DeprecationWarning)\n"
     ]
    }
   ],
   "source": [
    "import numpy as np\n",
    "import pandas as pd\n",
    "from sklearn.cross_validation import train_test_split\n",
    "from sklearn.metrics import accuracy_score\n",
    "from sklearn.tree import DecisionTreeClassifier\n",
    "\n",
    "from sklearn import tree\n",
    "from sklearn.ensemble import RandomForestClassifier"
   ]
  },
  {
   "cell_type": "code",
   "execution_count": 13,
   "metadata": {},
   "outputs": [
    {
     "name": "stdout",
     "output_type": "stream",
     "text": [
      "(873, 193)\n",
      "(873,)\n",
      "(873, 10)\n",
      "feat2 :  (888, 193)\n",
      "appended:  (1761, 193)\n",
      "with 3 :  (2686, 193)\n"
     ]
    }
   ],
   "source": [
    "features = np.load(\"feature1.npy\")\n",
    "labels = np.load(\"labels1.npy\")\n",
    "hot_labels = np.load(\"hot_labels1.npy\")\n",
    "print(features.shape)\n",
    "print(labels.shape)\n",
    "print(hot_labels.shape)\n",
    "\n",
    "features2  = np.load(\"feature2.npy\")\n",
    "feature = np.append(features, np.load(\"feature2.npy\"), axis=0)\n",
    "\n",
    "print(\"feat2 : \", features2.shape)\n",
    "print(\"appended: \", feature.shape)\n",
    "\n",
    "feature = np.append(feature, np.load(\"feature3.npy\"), axis=0)\n",
    "print(\"with 3 : \", feature.shape)\n",
    "#for i in range(1, 11):\n",
    "    "
   ]
  },
  {
   "cell_type": "code",
   "execution_count": 16,
   "metadata": {},
   "outputs": [
    {
     "name": "stdout",
     "output_type": "stream",
     "text": [
      "(9605, 193)\n",
      "(9605,)\n",
      "(9605, 10)\n"
     ]
    }
   ],
   "source": [
    "features = np.load(\"feature1.npy\")\n",
    "labels = np.load(\"labels1.npy\")\n",
    "hot_labels = np.load(\"hot_labels1.npy\")\n",
    "\n",
    "for i in range(1, 11):\n",
    "    features = np.append(features, np.load(\"feature\" + str(i) + \".npy\"), axis=0)\n",
    "    labels = np.append(labels, np.load(\"labels\" + str(i) + \".npy\"), axis=0)\n",
    "    hot_labels = np.append(hot_labels, np.load(\"hot_labels\" + str(i) + \".npy\"), axis=0)\n",
    "\n",
    "print(features.shape)\n",
    "print(labels.shape)\n",
    "print(hot_labels.shape)\n"
   ]
  },
  {
   "cell_type": "code",
   "execution_count": null,
   "metadata": {
    "collapsed": true
   },
   "outputs": [],
   "source": [
    "feature_txt = open(\"feature\" + str(i) + \".npy\", \"wb+\")\n",
    "labels_txt = open(\"labels\" + str(i) + \".npy\", \"wb+\")\n",
    "hot_labels_txt = open(\"hot_labels\" + str(i) + \".npy\", \"wb+\")\n",
    "\n",
    "np.save(feature_txt, features)\n",
    "np.save(labels_txt, labels)\n",
    "np.save(hot_labels_txt, hot_labels)\n",
    "\n",
    "feature_txt.close()\n",
    "labels_txt.close()\n",
    "hot_labels_txt.close()"
   ]
  }
 ],
 "metadata": {
  "kernelspec": {
   "display_name": "Python [default]",
   "language": "python",
   "name": "python3"
  },
  "language_info": {
   "codemirror_mode": {
    "name": "ipython",
    "version": 3
   },
   "file_extension": ".py",
   "mimetype": "text/x-python",
   "name": "python",
   "nbconvert_exporter": "python",
   "pygments_lexer": "ipython3",
   "version": "3.5.4"
  }
 },
 "nbformat": 4,
 "nbformat_minor": 2
}
