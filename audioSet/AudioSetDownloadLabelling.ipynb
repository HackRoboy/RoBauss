{
 "cells": [
  {
   "cell_type": "code",
   "execution_count": null,
   "metadata": {
    "collapsed": false
   },
   "outputs": [],
   "source": [
    "# Path to ffmpeg\n",
    "ffmpeg_path = '/usr/bin/ffmpeg'\n",
    "\n",
    "%matplotlib inline\n",
    "import sys\n",
    "import os.path\n",
    "# Make sure ffmpeg is on the path so sk-video can find it\n",
    "sys.path.append(os.path.dirname(ffmpeg_path))\n",
    "import skvideo.io\n",
    "import cv2\n",
    "import matplotlib.pyplot as plt\n",
    "import numpy as np\n",
    "import pafy\n",
    "import soundfile as sf\n",
    "import subprocess as sp\n",
    "import random"
   ]
  },
  {
   "cell_type": "code",
   "execution_count": 2,
   "metadata": {
    "collapsed": true
   },
   "outputs": [],
   "source": [
    "# Set output settings\n",
    "audio_codec = 'wav'\n",
    "audio_container = 'wav'\n",
    "video_codec = 'h264'\n",
    "video_container = 'mp4'"
   ]
  },
  {
   "cell_type": "code",
   "execution_count": 3,
   "metadata": {
    "collapsed": false
   },
   "outputs": [],
   "source": [
    "# Load the AudioSet training set\n",
    "with open('../data/unbalanced_train_segments.csv') as f:\n",
    "    lines = f.readlines()\n",
    "\n",
    "dl_list = [[s.replace('\\\"', '').replace(' ','') for s in line.strip().split(',')] for line in lines[3:]]"
   ]
  },
  {
   "cell_type": "code",
   "execution_count": 4,
   "metadata": {
    "collapsed": false
   },
   "outputs": [
    {
     "name": "stdout",
     "output_type": "stream",
     "text": [
      "YouTube ID: ---2_BBVHAA\n",
      "Trim Window: (30.0, 40.0)\n"
     ]
    }
   ],
   "source": [
    "# Select a YouTube video from the training set\n",
    "ytid, ts_start, ts_end = dl_list[1][0:3]\n",
    "ts_start, ts_end = float(ts_start), float(ts_end)\n",
    "duration = ts_end - ts_start\n",
    "\n",
    "print(\"YouTube ID: \" + ytid)\n",
    "print(\"Trim Window: ({}, {})\".format(ts_start, ts_end))"
   ]
  },
  {
   "cell_type": "code",
   "execution_count": 5,
   "metadata": {
    "collapsed": false
   },
   "outputs": [
    {
     "name": "stdout",
     "output_type": "stream",
     "text": [
      "Audio URL: https://r5---sn-4g5e6nsz.googlevideo.com/videoplayback?fvip=5&lmt=1460070157849997&ei=BkrSWrvtMMfh1gK6ur_gCQ&id=o-ADFIBS-jPS9TnfyiR47-ZwI6hOrI1N9u9F5Uza51Vpao&initcwndbps=1813750&sparams=clen%2Cdur%2Cei%2Cgir%2Cid%2Cinitcwndbps%2Cip%2Cipbits%2Citag%2Ckeepalive%2Clmt%2Cmime%2Cmm%2Cmn%2Cms%2Cmv%2Cpl%2Crequiressl%2Csource%2Cexpire&beids=%5B9466593%5D&ip=2001%3A4ca0%3A0%3Af296%3A37aa%3A6b63%3A4536%3Aae7&keepalive=yes&source=youtube&ms=au%2Conr&mv=m&mt=1523730855&mn=sn-4g5e6nsz%2Csn-i5heen7s&mm=31%2C26&requiressl=yes&clen=6934222&key=yt6&itag=251&ipbits=0&signature=B59598842AE5CA9323876AC4A071CA6047EF8F.7D966CFBEAFBEBE6AEDC32508ACF1CE5B9505AD0&expire=1523752550&dur=400.881&pl=32&gir=yes&c=WEB&mime=audio%2Fwebm&ratebypass=yes\n"
     ]
    }
   ],
   "source": [
    "# Get the URL to the video page\n",
    "video_page_url = 'https://www.youtube.com/watch?v={}'.format(ytid)\n",
    "\n",
    "# Get the direct URLs to the videos with best audio and with best video (with audio)\n",
    "video = pafy.new(video_page_url)\n",
    "\n",
    "best_audio = video.getbestaudio()\n",
    "best_audio_url = best_audio.url\n",
    "print(\"Audio URL: \" + best_audio_url)"
   ]
  },
  {
   "cell_type": "code",
   "execution_count": 6,
   "metadata": {
    "collapsed": true
   },
   "outputs": [],
   "source": [
    "# Get output video and audio filepaths\n",
    "basename_fmt = '{}_{}_{}'.format(ytid, int(ts_start*1000), int(ts_end*1000))\n",
    "audio_filepath = os.path.join('.', basename_fmt + '.' + audio_codec)"
   ]
  },
  {
   "cell_type": "code",
   "execution_count": 7,
   "metadata": {
    "collapsed": false
   },
   "outputs": [
    {
     "name": "stdout",
     "output_type": "stream",
     "text": [
      "Downloaded audio to ./---2_BBVHAA_30000_40000.wav\n"
     ]
    }
   ],
   "source": [
    "# Download the audio\n",
    "audio_dl_args = [ffmpeg_path, \n",
    "    '-ss', str(ts_start),    # The beginning of the trim window\n",
    "    '-i', best_audio_url,    # Specify the input video URL\n",
    "    '-t', str(duration),     # Specify the duration of the output\n",
    "    '-vn',                   # Suppress the video stream\n",
    "    '-ac', '2',              # Set the number of channels\n",
    "    '-y',                    # overwrite\n",
    "    '-sample_fmt', 's16',    # Specify the bit depth\n",
    "    #'-acodec', audio_codec,  # Specify the output encoding\n",
    "    '-ar', '44100',          # Specify the audio sample rate\n",
    "    audio_filepath]\n",
    "\n",
    "proc = sp.Popen(audio_dl_args, stdout=sp.PIPE, stderr=sp.PIPE)\n",
    "stdout, stderr = proc.communicate()\n",
    "if proc.returncode != 0:\n",
    "    print(stderr)\n",
    "else:\n",
    "    print(\"Downloaded audio to \" + audio_filepath)"
   ]
  },
  {
   "cell_type": "code",
   "execution_count": 8,
   "metadata": {
    "collapsed": false
   },
   "outputs": [],
   "source": [
    "# Load the AudioSet training set\n",
    "with open('../data/class_labels_indices.csv') as f:\n",
    "    lines = f.readlines()\n",
    "\n",
    "cl_list = [line.strip().split(',')[0:3] for line in lines[1:]]"
   ]
  },
  {
   "cell_type": "code",
   "execution_count": 9,
   "metadata": {
    "collapsed": false
   },
   "outputs": [],
   "source": [
    "index_dictionary = {b : c for a,b,c in cl_list}"
   ]
  },
  {
   "cell_type": "code",
   "execution_count": 10,
   "metadata": {
    "collapsed": false
   },
   "outputs": [],
   "source": [
    "file_labelling = {a[0]:[index_dictionary[c] for c in a[3:]] for a in dl_list}"
   ]
  },
  {
   "cell_type": "code",
   "execution_count": 11,
   "metadata": {
    "collapsed": false
   },
   "outputs": [
    {
     "data": {
      "text/plain": [
       "['\"Boat', '\"Vehicle\"']"
      ]
     },
     "execution_count": 11,
     "metadata": {},
     "output_type": "execute_result"
    }
   ],
   "source": [
    "file_labelling[dl_list[5][0]]"
   ]
  },
  {
   "cell_type": "code",
   "execution_count": 12,
   "metadata": {
    "collapsed": false
   },
   "outputs": [],
   "source": [
    "reverse_index_dictionary = {c:b for a,b,c in cl_list}"
   ]
  },
  {
   "cell_type": "code",
   "execution_count": 13,
   "metadata": {
    "collapsed": false
   },
   "outputs": [],
   "source": [
    "#file_labelling_reverse = {a:[x[0] for x in dl_list if reverse_index_dictionary[a] in x[3:]] for a in reverse_index_dictionary}"
   ]
  },
  {
   "cell_type": "code",
   "execution_count": 15,
   "metadata": {
    "collapsed": false
   },
   "outputs": [],
   "source": [
    "#file_labelling_reverse\n",
    "file_labelling_reverse = {}\n",
    "for x in dl_list:\n",
    "    for y in file_labelling[x[0]]:\n",
    "        if y in file_labelling_reverse:\n",
    "            file_labelling_reverse[y].append(x[0])\n",
    "        else:\n",
    "            file_labelling_reverse[y] = [x[0]]"
   ]
  },
  {
   "cell_type": "code",
   "execution_count": 19,
   "metadata": {
    "collapsed": false
   },
   "outputs": [],
   "source": [
    "def dlfile(ytid, ts_start, ts_end):\n",
    "    # Set output settings\n",
    "    audio_codec = 'wav'\n",
    "    audio_container = 'wav'\n",
    "    video_codec = 'h264'\n",
    "    video_container = 'mp4'\n",
    "    ts_start, ts_end = float(ts_start), float(ts_end)\n",
    "    duration = ts_end - ts_start\n",
    "\n",
    "    # Get output video and audio filepaths\n",
    "    basename_fmt = '{}_{}_{}'.format(ytid, int(ts_start*1000), int(ts_end*1000))\n",
    "    audio_filepath = os.path.join('.', basename_fmt + '.' + audio_codec)\n",
    "    # Download the audio\n",
    "    \n",
    "    # Get the URL to the video page\n",
    "    video_page_url = 'https://www.youtube.com/watch?v={}'.format(ytid)\n",
    "\n",
    "    # Get the direct URLs to the videos with best audio and with best video (with audio)\n",
    "    video = pafy.new(video_page_url)\n",
    "    \n",
    "    best_audio = video.getbestaudio()\n",
    "    best_audio_url = best_audio.url\n",
    "    \n",
    "    audio_dl_args = [ffmpeg_path, \n",
    "    '-ss', str(ts_start),    # The beginning of the trim window\n",
    "    '-i', best_audio_url,    # Specify the input video URL\n",
    "    '-t', str(duration),     # Specify the duration of the output\n",
    "    '-vn',                   # Suppress the video stream\n",
    "    '-ac', '2',              # Set the number of channels\n",
    "    '-y',                    # overwrite\n",
    "    '-sample_fmt', 's16',    # Specify the bit depth\n",
    "    #'-acodec', audio_codec,  # Specify the output encoding\n",
    "    '-ar', '44100',          # Specify the audio sample rate\n",
    "    audio_filepath]\n",
    "\n",
    "    proc = sp.Popen(audio_dl_args, stdout=sp.PIPE, stderr=sp.PIPE)\n",
    "    stdout, stderr = proc.communicate()\n",
    "    if proc.returncode != 0:\n",
    "        print(stderr)\n",
    "    return audio_filepath"
   ]
  },
  {
   "cell_type": "code",
   "execution_count": 20,
   "metadata": {
    "collapsed": false
   },
   "outputs": [],
   "source": [
    "def dl_random_file():\n",
    "    ytid, ts_start, ts_end = random.choice(dl_list)[:3]\n",
    "    return dlfile(ytid, ts_start, ts_end), ytid, file_labelling[ytid]"
   ]
  },
  {
   "cell_type": "code",
   "execution_count": 21,
   "metadata": {
    "collapsed": false
   },
   "outputs": [
    {
     "data": {
      "text/plain": [
       "('./HX_-gtGMjhs_30000_40000.wav', 'HX_-gtGMjhs', ['\"Speech\"'])"
      ]
     },
     "execution_count": 21,
     "metadata": {},
     "output_type": "execute_result"
    }
   ],
   "source": [
    "dl_random_file()"
   ]
  },
  {
   "cell_type": "code",
   "execution_count": null,
   "metadata": {
    "collapsed": true
   },
   "outputs": [],
   "source": []
  }
 ],
 "metadata": {
  "kernelspec": {
   "display_name": "Python 2",
   "language": "python",
   "name": "python2"
  },
  "language_info": {
   "codemirror_mode": {
    "name": "ipython",
    "version": 2
   },
   "file_extension": ".py",
   "mimetype": "text/x-python",
   "name": "python",
   "nbconvert_exporter": "python",
   "pygments_lexer": "ipython2",
   "version": "2.7.13"
  }
 },
 "nbformat": 4,
 "nbformat_minor": 2
}
